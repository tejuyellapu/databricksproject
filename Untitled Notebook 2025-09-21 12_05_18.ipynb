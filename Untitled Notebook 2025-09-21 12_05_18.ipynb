{
 "cells": [
  {
   "cell_type": "code",
   "execution_count": 0,
   "metadata": {
    "application/vnd.databricks.v1+cell": {
     "cellMetadata": {
      "byteLimit": 2048000,
      "rowLimit": 10000
     },
     "inputWidgets": {},
     "nuid": "0c7f0ecf-62ef-4025-9082-93893b13b018",
     "showTitle": false,
     "tableResultSettingsMap": {},
     "title": ""
    }
   },
   "outputs": [],
   "source": [
    "spark.conf.set(\"spark.sql.shuffle.partitions\", 50)"
   ]
  },
  {
   "cell_type": "code",
   "execution_count": 0,
   "metadata": {
    "application/vnd.databricks.v1+cell": {
     "cellMetadata": {
      "byteLimit": 2048000,
      "rowLimit": 10000
     },
     "inputWidgets": {},
     "nuid": "a7e87829-948d-47e0-9776-15938f6cf02a",
     "showTitle": false,
     "tableResultSettingsMap": {},
     "title": ""
    }
   },
   "outputs": [],
   "source": [
    "df = spark.read.format(\"csv\").option(\"header\", True).load(\"/Volumes/external_catlog/default/external_managedvolume/Employee_Attrition.csv\")\n",
    "display(df)"
   ]
  },
  {
   "cell_type": "code",
   "execution_count": 0,
   "metadata": {
    "application/vnd.databricks.v1+cell": {
     "cellMetadata": {
      "byteLimit": 2048000,
      "rowLimit": 10000
     },
     "inputWidgets": {},
     "nuid": "5cdc7ea6-3737-4f55-b9cd-df8c4e35a9e2",
     "showTitle": false,
     "tableResultSettingsMap": {},
     "title": ""
    }
   },
   "outputs": [],
   "source": [
    "from pyspark.sql.functions import col\n",
    "\n",
    "high_risk_df = df.filter(\n",
    "    (col(\"Attrition\") == \"No\") & (col(\"JobSatisfaction\").cast(\"int\") < 3)\n",
    ")\n",
    "\n",
    "selected_columns = [\n",
    "    \"EmployeeNumber\", \"EmployeeName\", \"Department\", \"JobRole\", \"JobSatisfaction\",\n",
    "    \"Age\", \"Gender\", \"MaritalStatus\", \"MonthlyIncome\", \"OverTime\", \"YearsAtCompany\"\n",
    "]\n",
    "high_risk_selected_df = high_risk_df.select(*[c for c in selected_columns if c in high_risk_df.columns])\n",
    "\n",
    "high_risk_selected_df.write.format(\"delta\").mode(\"overwrite\").saveAsTable(\"`external_catlog`.default.high_risk_attrition_employees\")"
   ]
  },
  {
   "cell_type": "code",
   "execution_count": 0,
   "metadata": {
    "application/vnd.databricks.v1+cell": {
     "cellMetadata": {
      "byteLimit": 2048000,
      "rowLimit": 10000
     },
     "inputWidgets": {},
     "nuid": "22266baf-8679-4831-98fa-6814d5ae6dc4",
     "showTitle": false,
     "tableResultSettingsMap": {},
     "title": ""
    }
   },
   "outputs": [],
   "source": [
    "history_df = spark.sql(\"DESCRIBE HISTORY `external_catlog`.default.high_risk_attrition_employees\")\n",
    "\n",
    "display(history_df.select(\"version\", \"timestamp\", \"operation\"))"
   ]
  },
  {
   "cell_type": "code",
   "execution_count": 0,
   "metadata": {
    "application/vnd.databricks.v1+cell": {
     "cellMetadata": {
      "byteLimit": 2048000,
      "rowLimit": 10000
     },
     "inputWidgets": {},
     "nuid": "8fabcb5d-90fb-44e8-80b2-5d4bf6ce7189",
     "showTitle": false,
     "tableResultSettingsMap": {},
     "title": ""
    }
   },
   "outputs": [],
   "source": [
    "from pyspark.sql import Row\n",
    "\n",
    "dummy_data = [Row(\n",
    "    EmployeeNumber=\"999999\",\n",
    "    Department=\"Dummy Dept\",\n",
    "    JobRole=\"Dummy Role\",\n",
    "    JobSatisfaction=\"1\",\n",
    "    Age=\"30\",\n",
    "    Gender=\"Other\",\n",
    "    MaritalStatus=\"Single\",\n",
    "    MonthlyIncome=\"0\",\n",
    "    OverTime=\"No\",\n",
    "    YearsAtCompany=\"0\"\n",
    ")]\n",
    "\n",
    "dummy_df = spark.createDataFrame(dummy_data)\n",
    "\n",
    "dummy_df.write.format(\"delta\").mode(\"append\").saveAsTable(\"`external_catlog`.default.high_risk_attrition_employees\")"
   ]
  },
  {
   "cell_type": "code",
   "execution_count": 0,
   "metadata": {
    "application/vnd.databricks.v1+cell": {
     "cellMetadata": {
      "byteLimit": 2048000,
      "rowLimit": 10000
     },
     "inputWidgets": {},
     "nuid": "7a7d5834-e17b-4700-bc50-b2de032e3782",
     "showTitle": false,
     "tableResultSettingsMap": {
      "0": {
       "dataGridStateBlob": "{\"version\":1,\"tableState\":{\"columnPinning\":{\"left\":[\"#row_number#\"],\"right\":[]},\"columnSizing\":{\"timestamp\":328},\"columnVisibility\":{}},\"settings\":{\"columns\":{}},\"syncTimestamp\":1758458572309}",
       "filterBlob": null,
       "queryPlanFiltersBlob": null,
       "tableResultIndex": 0
      }
     },
     "title": ""
    }
   },
   "outputs": [],
   "source": [
    "history_df = spark.sql(\"DESCRIBE HISTORY `external_catlog`.default.high_risk_attrition_employees\")\n",
    "display(history_df.select(\"version\", \"timestamp\", \"operation\"))"
   ]
  },
  {
   "cell_type": "code",
   "execution_count": 0,
   "metadata": {
    "application/vnd.databricks.v1+cell": {
     "cellMetadata": {
      "byteLimit": 2048000,
      "rowLimit": 10000
     },
     "inputWidgets": {},
     "nuid": "63476f39-e46c-4985-8687-976f43f59f12",
     "showTitle": false,
     "tableResultSettingsMap": {},
     "title": ""
    }
   },
   "outputs": [],
   "source": [
    "delta_df = spark.read.format(\"delta\").table(\"`external_catlog`.default.high_risk_attrition_employees\")\n",
    "display(delta_df)"
   ]
  },
  {
   "cell_type": "code",
   "execution_count": 0,
   "metadata": {
    "application/vnd.databricks.v1+cell": {
     "cellMetadata": {
      "byteLimit": 2048000,
      "rowLimit": 10000
     },
     "collapsed": true,
     "inputWidgets": {},
     "nuid": "e77a0a5a-add5-483d-8e1a-61e190056795",
     "showTitle": false,
     "tableResultSettingsMap": {},
     "title": ""
    }
   },
   "outputs": [],
   "source": [
    "delta_df_v1 = spark.read.format(\"delta\").option(\"versionAsOf\", 0).table(\"`external_catlog`.default.high_risk_attrition_employees\")\n",
    "display(delta_df_v1)"
   ]
  },
  {
   "cell_type": "code",
   "execution_count": 0,
   "metadata": {
    "application/vnd.databricks.v1+cell": {
     "cellMetadata": {
      "byteLimit": 2048000,
      "rowLimit": 10000
     },
     "collapsed": true,
     "inputWidgets": {},
     "nuid": "3822ea5b-0208-4730-b092-9b7e708ac212",
     "showTitle": false,
     "tableResultSettingsMap": {},
     "title": ""
    }
   },
   "outputs": [],
   "source": [
    "delta_df_v1 = spark.read.format(\"delta\").option(\"versionAsOf\", 1).table(\"`external_catlog`.default.high_risk_attrition_employees\")\n",
    "display(delta_df_v1)"
   ]
  },
  {
   "cell_type": "code",
   "execution_count": 0,
   "metadata": {
    "application/vnd.databricks.v1+cell": {
     "cellMetadata": {
      "byteLimit": 2048000,
      "rowLimit": 10000
     },
     "inputWidgets": {},
     "nuid": "b246ce06-a252-4f83-8568-29ddb78c69fc",
     "showTitle": false,
     "tableResultSettingsMap": {},
     "title": ""
    }
   },
   "outputs": [],
   "source": [
    "delta_df_from_ts = spark.read.format(\"delta\") \\\n",
    "    .option(\"timestampAsOf\", \"2025-09-21T12:33:12.914+00:00\") \\\n",
    "    .table(\"`external_catlog`.default.high_risk_attrition_employees\")\n",
    "\n",
    "display(delta_df_from_ts)"
   ]
  },
  {
   "cell_type": "code",
   "execution_count": 0,
   "metadata": {
    "application/vnd.databricks.v1+cell": {
     "cellMetadata": {
      "byteLimit": 2048000,
      "rowLimit": 10000
     },
     "inputWidgets": {},
     "nuid": "64b381ff-8404-4e62-917b-f147596a2977",
     "showTitle": false,
     "tableResultSettingsMap": {},
     "title": ""
    }
   },
   "outputs": [],
   "source": [
    "spark.sql(\"CREATE VOLUME IF NOT EXISTS `external_catlog`.default.employee_transformed_data\")"
   ]
  },
  {
   "cell_type": "code",
   "execution_count": 0,
   "metadata": {
    "application/vnd.databricks.v1+cell": {
     "cellMetadata": {
      "byteLimit": 2048000,
      "rowLimit": 10000
     },
     "inputWidgets": {},
     "nuid": "063d36cc-8081-49bb-9fcc-4817aa75b089",
     "showTitle": false,
     "tableResultSettingsMap": {},
     "title": ""
    }
   },
   "outputs": [],
   "source": [
    "from pyspark.sql.functions import col, upper\n",
    "\n",
    "# Example logical transformation: uppercase JobRole for all employees\n",
    "transformed_df = df.withColumn(\"JobRole\", upper(col(\"JobRole\")))\n",
    "\n",
    "output_path = \"/Volumes/external_catlog/default/employee_transformed_data/\"\n",
    "\n",
    "transformed_df.write.mode(\"overwrite\").partitionBy(\"Department\").format(\"parquet\").save(output_path)"
   ]
  }
 ],
 "metadata": {
  "application/vnd.databricks.v1+notebook": {
   "computePreferences": null,
   "dashboards": [],
   "environmentMetadata": {
    "base_environment": "",
    "environment_version": "3"
   },
   "inputWidgetPreferences": null,
   "language": "python",
   "notebookMetadata": {
    "pythonIndentUnit": 4
   },
   "notebookName": "Untitled Notebook 2025-09-21 12_05_18",
   "widgets": {}
  },
  "language_info": {
   "name": "python"
  }
 },
 "nbformat": 4,
 "nbformat_minor": 0
}
